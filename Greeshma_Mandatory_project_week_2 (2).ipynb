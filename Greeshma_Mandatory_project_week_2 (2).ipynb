{
  "cells": [
    {
      "cell_type": "markdown",
      "metadata": {
        "id": "fbJiIDqO3W5h"
      },
      "source": [
        "**1**. You are working in a bank and you have been given two lists of the employees who worked in 2021. Employee’s name in **list 1** -- [Ramesh, Suresh, Mahesh, Ali, Jacob and Saritha]. **List 2** contains the names of -- [Ali, Mukesh, Mahesh, Jacob, Sai, Sarita]. Please write a program which helps to identify people who are common in both lists. **Please do not use any in-built function**."
      ]
    },
    {
      "cell_type": "code",
      "execution_count": null,
      "metadata": {
        "id": "uXYeEUP6TwNS"
      },
      "outputs": [],
      "source": [
        "list1 = [\"Ramesh\", \"Suresh\", \"Mahesh\", \"Ali\", \"Jacob\" , \"Saritha\"] \n",
        "list2 = [\"Ali\", \"Mukesh\", \"Mahesh\", \"Jacob\", \"Sai\", \"Sarita\"]\n",
        "\n",
        "def common_name(list1,list2):                                                    # Defining the function              \n",
        "  result = [name for name in list1 if name in list2]                             # Finding the common names from the 2 lists\n",
        "  return result                                                                  # Returning the output\n",
        "\n",
        "  "
      ]
    },
    {
      "cell_type": "code",
      "execution_count": null,
      "metadata": {
        "colab": {
          "base_uri": "https://localhost:8080/"
        },
        "id": "3AbnuKwN9baU",
        "outputId": "9ece00dd-e239-4ec2-9134-0d2ce40866e2"
      },
      "outputs": [
        {
          "output_type": "execute_result",
          "data": {
            "text/plain": [
              "['Mahesh', 'Ali', 'Jacob']"
            ]
          },
          "metadata": {},
          "execution_count": 25
        }
      ],
      "source": [
        "common_name([\"Ramesh\", \"Suresh\", \"Mahesh\", \"Ali\", \"Jacob\" , \"Saritha\"] ,[\"Ali\", \"Mukesh\", \"Mahesh\", \"Jacob\", \"Sai\", \"Sarita\"])"
      ]
    },
    {
      "cell_type": "code",
      "source": [
        "common_name(list2,list1)"
      ],
      "metadata": {
        "colab": {
          "base_uri": "https://localhost:8080/"
        },
        "id": "PZK2BLh3YPvx",
        "outputId": "cf41e136-c764-4a4b-d758-d02b65179a4f"
      },
      "execution_count": null,
      "outputs": [
        {
          "output_type": "execute_result",
          "data": {
            "text/plain": [
              "['Ali', 'Mahesh', 'Jacob']"
            ]
          },
          "metadata": {},
          "execution_count": 21
        }
      ]
    },
    {
      "cell_type": "markdown",
      "metadata": {
        "id": "TwnmrPlz3i0w"
      },
      "source": [
        "**2**.While entering data, someone entered a few names as a common string **“Ramesh Suresh Mohit”**. Please write a program which separates all the names and convert them into a list. Once converted in a list, please write a program which adds their age.\n",
        "\n",
        " \n",
        "\n",
        "Ramesh :  25\n",
        "\n",
        "Suresh : 22\n",
        "\n",
        "Mohit : 26"
      ]
    },
    {
      "cell_type": "code",
      "execution_count": null,
      "metadata": {
        "id": "zb37s1CT3h6C"
      },
      "outputs": [],
      "source": [
        "string = \"Ramesh Suresh Mohit\"                                                   # Given string of names\n",
        "age = [25, 22,26]                                                                # Ages of the person\n",
        "\n",
        "\n",
        "def convert_into_list(string):                                                   # Defining the function\n",
        "  result = list(string.split())                                                  # Spliting the string and put the words in list\n",
        "  final = []                                                                     # Empty list\n",
        "  for i in range(len(result)):                                                   # Writing the condition\n",
        "    final += [result[i] + \":\" + str(age[i])]                                     # Adding the age of the person to the list of names\n",
        "\n",
        "  return result,final                                                            # Returning the output\n"
      ]
    },
    {
      "cell_type": "code",
      "execution_count": null,
      "metadata": {
        "colab": {
          "base_uri": "https://localhost:8080/"
        },
        "id": "DMc4vLoBV9OD",
        "outputId": "68448ea6-3bde-45dd-bc0f-81fa3e1001c5"
      },
      "outputs": [
        {
          "output_type": "execute_result",
          "data": {
            "text/plain": [
              "(['Ramesh', 'Suresh', 'Mohit'], ['Ramesh:25', 'Suresh:22', 'Mohit:26'])"
            ]
          },
          "metadata": {},
          "execution_count": 26
        }
      ],
      "source": [
        "convert_into_list(\"Ramesh Suresh Mohit\")"
      ]
    },
    {
      "cell_type": "markdown",
      "metadata": {
        "id": "g05vdtoh3k2H"
      },
      "source": [
        "**3**. A few students from a university have taken three exams\n",
        "\n",
        "  Name = Sam, Jacy, Tom, Steve\n",
        "\n",
        "  Python = 25, 26, 29, 28\n",
        "\n",
        "  Statistics = 23, 21, 19, 25\n",
        "\n",
        "  SQL = 29, 27, 28, 25\n",
        "\n",
        " \n",
        "\n",
        "Please write a program which calculates mean values **(no in-built function for mean)** of all three tests and print the highest mean value. Addition and other functions are allowed. Please also report who scored the highest mark in python using programming construct. "
      ]
    },
    {
      "cell_type": "code",
      "source": [
        "Name = [\"Sam\", \"Jacy\", \"Tom\", \"Steve\"]                                           # Given list of student names\n",
        "\n",
        "Python = [25, 26, 29, 28]                                                        # Python marks of each student\n",
        "Statistics = [23, 21, 19, 25]                                                    # Statistics marks of each student\n",
        "SQL = [29, 27, 28, 25]                                                           # Sql marks of each student\n",
        "\n",
        "# calculating average of python\n",
        "\n",
        "sum1 = 0\n",
        "n1 = 0\n",
        "for i in Python:\n",
        "  sum1 += i\n",
        "  n1 += 1\n",
        "average_python = sum1 / n1\n",
        "\n",
        "# calculating average of statistics\n",
        "\n",
        "sum2 = 0\n",
        "n2 = 0\n",
        "for j in Statistics:\n",
        "  sum2 += j\n",
        "  n2 += 1\n",
        "average_statistics = sum2 / n2\n",
        "\n",
        "# calculating the average of SQL\n",
        "\n",
        "sum3 = 0\n",
        "n3 = 0\n",
        "for x in SQL:\n",
        "  sum3 += x\n",
        "  n3 += 1\n",
        "average_sql = sum3 / n3\n",
        "\n",
        "print(\"The highest mean among all the 3 tests:\",max(average_python,average_statistics,average_sql))\n"
      ],
      "metadata": {
        "colab": {
          "base_uri": "https://localhost:8080/"
        },
        "id": "oAH5xTrW0VrS",
        "outputId": "67cc88c6-4b42-4cdc-ef0e-608f6bc1f2d4"
      },
      "execution_count": null,
      "outputs": [
        {
          "output_type": "stream",
          "name": "stdout",
          "text": [
            "The highest mean among all the 3 tests: 27.25\n"
          ]
        }
      ]
    },
    {
      "cell_type": "code",
      "execution_count": null,
      "metadata": {
        "colab": {
          "base_uri": "https://localhost:8080/"
        },
        "id": "a3kZ1ytK3l3H",
        "outputId": "4dcd058f-6dc0-465d-ca00-295222225d98"
      },
      "outputs": [
        {
          "output_type": "stream",
          "name": "stdout",
          "text": [
            "the highest mean: 27.25\n"
          ]
        }
      ],
      "source": [
        "from statistics import mean                                                      # Importing the mean\n",
        "Name = [\"Sam\", \"Jacy\", \"Tom\", \"Steve\"]                                           # Given list of student names\n",
        "Python = [25, 26, 29, 28]                                                        # Python marks of each student\n",
        "Statistics = [23, 21, 19, 25]                                                    # Statistics marks of each student\n",
        "SQL = [29, 27, 28, 25]                                                           # Sql marks of each student\n",
        "\n",
        "PY = avg_python = mean(Python)                                                   # Average of python\n",
        "ST = avg_statistics = mean(Statistics)                                           # Average of statistics\n",
        "SQL = avg_sql = mean(SQL)                                                        # Average of SQL\n",
        "\n",
        "def maximum(PY,ST,SQL):                                                          # Defining the function\n",
        "  if (PY >= ST) and (PY >= SQL):                                                 # Checking the condition which mean is highest\n",
        "    highest  = PY                                                                # If above condition is true return the value\n",
        "  elif (ST >= PY) and (ST >= SQL):                                               # Checking the condition which mean is highest\n",
        "    highest = ST                                                                 # If above condition is true return the value\n",
        "  else:\n",
        "    highest = SQL\n",
        "  return highest                                                                 # Returning the highest mean\n",
        "    \n",
        "print(\"the highest mean:\",maximum(PY,ST,SQL))                                    # Highest mean from the 3 subjects\n",
        "\n"
      ]
    },
    {
      "cell_type": "code",
      "execution_count": null,
      "metadata": {
        "colab": {
          "base_uri": "https://localhost:8080/"
        },
        "id": "GrKlgU4iVz3Q",
        "outputId": "9570355f-f4a8-4121-c901-dfd68e4b176c"
      },
      "outputs": [
        {
          "output_type": "stream",
          "name": "stdout",
          "text": [
            "Original key list is : ['Sam', 'Jacy', 'Tom', 'Steve']\n",
            "Original value list is : [25, 26, 29, 28]\n",
            "Resultant dictionary is : {'Sam': 25, 'Jacy': 26, 'Tom': 29, 'Steve': 28}\n",
            "The student got the highest marks in python: Tom\n"
          ]
        }
      ],
      "source": [
        "Name = [\"Sam\", \"Jacy\", \"Tom\", \"Steve\"]                                           # Given list of student names\n",
        "Python = [25, 26, 29, 28]                                                        # Python marks of each student\n",
        "\n",
        "print(\"Original key list is : \" + str(Name))                                     # Printing the key list i.e student names\n",
        "print(\"Original value list is : \" + str(Python))                                 # Printing the value list i.e python marks\n",
        "\n",
        "result = {Name[i]: Python[i] for i in range(len(Name))}                          # Adding the both name and marks lists to dictionary\n",
        "print(\"Resultant dictionary is : \" + str(result))                                # Printing the final dictionary\n",
        "\n",
        "highest = max(result.values())                                                   # Finding the maximum value from the marks\n",
        "n = [i for i, j in result.items() if j == highest]                               # Checking the condition\n",
        "str1 = ''.join(n)                                                               \n",
        "print(\"The student got the highest marks in python:\",str1)                       # Printing the name of the student who get highest marks in python\n"
      ]
    },
    {
      "cell_type": "markdown",
      "metadata": {
        "id": "suP5UjD33mWm"
      },
      "source": [
        "**4**.You are working in a medical store. A patient came to your medical store and asked to buy 2 strips of paracetamol, 3 strips of azithromycin and 5 strips of Vitamin C. One strip of paracetamol costs Rs **35**, one strip of azithromycin costs Rs **49** and one strip of vitamin c costs Rs. **33**. Patient gave you Rs 2000. Please tell us what is the total cost of each medicine, total cost of all medicine and how much money you refunded to the patient? "
      ]
    },
    {
      "cell_type": "code",
      "execution_count": null,
      "metadata": {
        "id": "W5OdQAco3mug"
      },
      "outputs": [],
      "source": [
        "n = 2000\n",
        "P = cost_onestrip_paracetamol = 35\n",
        "A = cost_onestrip_azithromycin = 49\n",
        "V = cost_onestrip_vitamin_c = 33\n",
        "\n",
        "def patient_refund(num1,num2,num3,P,A,V):                                        # Defining the function\n",
        "  cost_par = num1 * P                                                            # Finding the cost of 2 strips of paracetamol\n",
        "  cost_az = num2 * A                                                             # Finding the cost of 3 strrips of azithromycin\n",
        "  cost_vit = num3 * V                                                            # Finding the cost of 5 strips of vitamin C\n",
        "  total_cost = cost_par + cost_az + cost_vit                                     # Finding the total cost he paid\n",
        "  total_refund = n - total_cost                                                  # Finding the total refund amount he get back from 2000\n",
        "  return (cost_par,cost_az,cost_vit,total_cost,total_refund)                     # Returning the output\n",
        "  \n"
      ]
    },
    {
      "cell_type": "code",
      "execution_count": null,
      "metadata": {
        "colab": {
          "base_uri": "https://localhost:8080/"
        },
        "id": "6V8BNif5ibgI",
        "outputId": "2dad372a-35be-4fdc-8330-dead82c12ad4"
      },
      "outputs": [
        {
          "output_type": "execute_result",
          "data": {
            "text/plain": [
              "(70, 147, 165, 382, 1618)"
            ]
          },
          "metadata": {},
          "execution_count": 29
        }
      ],
      "source": [
        "patient_refund(2,3,5,35,49,33)"
      ]
    },
    {
      "cell_type": "code",
      "execution_count": null,
      "metadata": {
        "colab": {
          "base_uri": "https://localhost:8080/"
        },
        "id": "38NP60m-mlok",
        "outputId": "0c94c094-a431-41c0-c512-21219354f903"
      },
      "outputs": [
        {
          "output_type": "execute_result",
          "data": {
            "text/plain": [
              "(175, 147, 132, 454, 1546)"
            ]
          },
          "metadata": {},
          "execution_count": 10
        }
      ],
      "source": [
        "patient_refund(5,3,4,35,49,33)"
      ]
    },
    {
      "cell_type": "markdown",
      "metadata": {
        "id": "Yb3baCFS3nLf"
      },
      "source": [
        "**5**.Accept a sentence as input and find the number of vowels in it. Assume that the sentence has no punctuation marks. For example: I am learning python contains 6 vowels. **This function should be applicable for all other different sentences**."
      ]
    },
    {
      "cell_type": "code",
      "execution_count": null,
      "metadata": {
        "id": "u57z4wvb3nhH"
      },
      "outputs": [],
      "source": [
        "def find_vowels(string):                                                         # Defining the function\n",
        "  \n",
        "  count = 0                                                                      # Setting the count = 0\n",
        "  vowels_low = set(\"aeiou\")                                                      # Lower case vowels are taking as set\n",
        "  vowels_up = set(\"AEIOU\")                                                       # Upper case vowels are taking as set\n",
        "  for char in string:                                                            # Writing the condition\n",
        "    if char in vowels_low:                                                       # Checking the character in lower-case-vowels\n",
        "      count += 1                                                                 # If the character is present increase the COUNT\n",
        "    elif char in vowels_up:                                                      # Checking the character in upper-case-vowels\n",
        "      count += 1                                                                 # If the character is present increase the COUNT\n",
        "    else:\n",
        "      pass                                                                       # Else pass the condition\n",
        "  return count                                                                   # Returning the final count of vowels\n"
      ]
    },
    {
      "cell_type": "code",
      "execution_count": null,
      "metadata": {
        "colab": {
          "base_uri": "https://localhost:8080/"
        },
        "id": "Bwb5HllQZ-2I",
        "outputId": "9faa9291-9da7-4549-83f9-0d2288d37cda"
      },
      "outputs": [
        {
          "output_type": "execute_result",
          "data": {
            "text/plain": [
              "6"
            ]
          },
          "metadata": {},
          "execution_count": 30
        }
      ],
      "source": [
        "find_vowels(\"i am learning python\")"
      ]
    },
    {
      "cell_type": "code",
      "execution_count": null,
      "metadata": {
        "colab": {
          "base_uri": "https://localhost:8080/"
        },
        "id": "ekk71OKl7_Kn",
        "outputId": "b5113003-98a5-45c5-934e-b9a60e19ffdd"
      },
      "outputs": [
        {
          "output_type": "execute_result",
          "data": {
            "text/plain": [
              "19"
            ]
          },
          "metadata": {},
          "execution_count": 31
        }
      ],
      "source": [
        "find_vowels(\"love gOd love people makE a dIfference And be thankfUl\")"
      ]
    },
    {
      "cell_type": "code",
      "execution_count": null,
      "metadata": {
        "colab": {
          "base_uri": "https://localhost:8080/"
        },
        "id": "P8rFZHDP8R30",
        "outputId": "373b91c5-3d80-46a1-cf9b-2bb7a573adde"
      },
      "outputs": [
        {
          "output_type": "execute_result",
          "data": {
            "text/plain": [
              "3"
            ]
          },
          "metadata": {},
          "execution_count": 14
        }
      ],
      "source": [
        "find_vowels(\"java script85\")"
      ]
    },
    {
      "cell_type": "markdown",
      "metadata": {
        "id": "EDv8OxOL3oOe"
      },
      "source": [
        "**6**.You have been appointed by the election commission to create a website. Your first task is to work on a program which tells candidates if they are eligible for voting or not. If they are eligible your output should be ‘Congrats! You are eligible’, otherwise it should tell that you have to -- **return after X number of years**. Eligibility criteria for voting is 18 years.\n",
        "\n",
        " \n",
        "\n",
        "For example : **If someone is 18 or above your output should be ‘Congrats! You are eligible’. If someone’s age is 15 years it should print output as ‘return after 3 years’.  **\n",
        "\n"
      ]
    },
    {
      "cell_type": "code",
      "execution_count": null,
      "metadata": {
        "id": "0KMgDBnR3olm"
      },
      "outputs": [],
      "source": [
        "def eligible_for_vote(age):                                                      # Defining the function\n",
        "  count = 0                                                                      # Setting the count to 0\n",
        "  if age >= 18:                                                                  # Checking the condition\n",
        "    print(\"Congrats!You are eligible.\")                                          # If the condition is correct print the statement\n",
        "  else:                                                                          # Checking the condition\n",
        "    count = 18 - age                                                             # Checking the count for eligibility criteria\n",
        "    \n",
        "    print(\"Return after\",count,\"years\")                                          # If the condition is correct print the statement"
      ]
    },
    {
      "cell_type": "code",
      "execution_count": null,
      "metadata": {
        "colab": {
          "base_uri": "https://localhost:8080/"
        },
        "id": "qr9ZZSRGcEH9",
        "outputId": "764f9633-ae35-4b3a-c416-6b68e186c5ce"
      },
      "outputs": [
        {
          "output_type": "stream",
          "name": "stdout",
          "text": [
            "Congrats!You are eligible.\n"
          ]
        }
      ],
      "source": [
        "eligible_for_vote(18)"
      ]
    },
    {
      "cell_type": "code",
      "execution_count": null,
      "metadata": {
        "colab": {
          "base_uri": "https://localhost:8080/"
        },
        "id": "vOv4lIV080Fb",
        "outputId": "cb40097d-46f5-4710-904c-a2b79f8c94e0"
      },
      "outputs": [
        {
          "output_type": "stream",
          "name": "stdout",
          "text": [
            "Return after 8 years\n"
          ]
        }
      ],
      "source": [
        "eligible_for_vote(10)"
      ]
    }
  ],
  "metadata": {
    "colab": {
      "provenance": []
    },
    "kernelspec": {
      "display_name": "Python 3",
      "name": "python3"
    },
    "language_info": {
      "name": "python"
    }
  },
  "nbformat": 4,
  "nbformat_minor": 0
}